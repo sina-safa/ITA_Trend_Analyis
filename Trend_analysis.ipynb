{
 "cells": [
  {
   "cell_type": "code",
   "execution_count": 2,
   "metadata": {},
   "outputs": [],
   "source": [
    "import numpy as np\n",
    "import pandas as pd\n",
    "import matplotlib.pyplot as plt"
   ]
  },
  {
   "cell_type": "code",
   "execution_count": 3,
   "metadata": {},
   "outputs": [
    {
     "name": "stdout",
     "output_type": "stream",
     "text": [
      "Year             int64\n",
      "First data     float64\n",
      "Second data    float64\n",
      "dtype: object\n"
     ]
    }
   ],
   "source": [
    "\n",
    "# read file \n",
    "df = pd.read_excel('E:\\Work\\Data analysis\\Data analysis projects\\Python\\Sina safadoust1.xlsx')\n",
    "\n",
    "# overview\n",
    "df.head()\n",
    "\n",
    "# separate rows\n",
    "data_types = df.dtypes\n",
    "print(data_types)\n",
    "\n",
    "df_first = df[[df.columns[1]]]"
   ]
  },
  {
   "cell_type": "code",
   "execution_count": 4,
   "metadata": {},
   "outputs": [
    {
     "data": {
      "image/png": "[encoded data removed]",
      "text/plain": [
       "<Figure size 640x480 with 1 Axes>"
      ]
     },
     "metadata": {},
     "output_type": "display_data"
    }
   ],
   "source": [
    "# devide data into two equal set\n",
    "\n",
    "df_first_1 = df_first[0:33]\n",
    "df_first_2 = df_first[32:]\n",
    "#print(df_first_1)\n",
    "# sort the data in each set\n",
    "\n",
    "x = df_first_1.sort_values(by='First data')\n",
    "y = df_first_2.sort_values(by='First data')\n",
    "\n",
    "# plot the scatter diagram\n",
    "\n",
    "plt.scatter(x, y, c='blue', marker='o', label='Data Points')\n",
    "xmin, xmax = 20, 180\n",
    "ymin, ymax = 20, 180\n",
    "plt.axis([xmin, xmax, ymin, ymax])\n",
    "plt.grid(True)\n",
    "\n",
    "x_line = [xmin, xmax]\n",
    "y_line = x_line\n",
    "\n",
    "# Plot the diagonal line\n",
    "plt.plot(x_line, y_line, c='red', linestyle='dashed', label='Diagonal Line')\n",
    "\n",
    "plt.title('ITA Method')\n",
    "plt.show()\n"
   ]
  },
  {
   "cell_type": "code",
   "execution_count": 5,
   "metadata": {},
   "outputs": [
    {
     "data": {
      "text/html": [
       "<div>\n",
       "<style scoped>\n",
       "    .dataframe tbody tr th:only-of-type {\n",
       "        vertical-align: middle;\n",
       "    }\n",
       "\n",
       "    .dataframe tbody tr th {\n",
       "        vertical-align: top;\n",
       "    }\n",
       "\n",
       "    .dataframe thead th {\n",
       "        text-align: right;\n",
       "    }\n",
       "</style>\n",
       "<table border=\"1\" class=\"dataframe\">\n",
       "  <thead>\n",
       "    <tr style=\"text-align: right;\">\n",
       "      <th></th>\n",
       "      <th>Second data</th>\n",
       "    </tr>\n",
       "  </thead>\n",
       "  <tbody>\n",
       "    <tr>\n",
       "      <th>0</th>\n",
       "      <td>118.6</td>\n",
       "    </tr>\n",
       "    <tr>\n",
       "      <th>1</th>\n",
       "      <td>124.0</td>\n",
       "    </tr>\n",
       "    <tr>\n",
       "      <th>2</th>\n",
       "      <td>64.1</td>\n",
       "    </tr>\n",
       "    <tr>\n",
       "      <th>3</th>\n",
       "      <td>63.4</td>\n",
       "    </tr>\n",
       "    <tr>\n",
       "      <th>4</th>\n",
       "      <td>155.8</td>\n",
       "    </tr>\n",
       "    <tr>\n",
       "      <th>...</th>\n",
       "      <td>...</td>\n",
       "    </tr>\n",
       "    <tr>\n",
       "      <th>60</th>\n",
       "      <td>90.4</td>\n",
       "    </tr>\n",
       "    <tr>\n",
       "      <th>61</th>\n",
       "      <td>48.5</td>\n",
       "    </tr>\n",
       "    <tr>\n",
       "      <th>62</th>\n",
       "      <td>38.5</td>\n",
       "    </tr>\n",
       "    <tr>\n",
       "      <th>63</th>\n",
       "      <td>76.4</td>\n",
       "    </tr>\n",
       "    <tr>\n",
       "      <th>64</th>\n",
       "      <td>59.0</td>\n",
       "    </tr>\n",
       "  </tbody>\n",
       "</table>\n",
       "<p>65 rows × 1 columns</p>\n",
       "</div>"
      ],
      "text/plain": [
       "    Second data\n",
       "0         118.6\n",
       "1         124.0\n",
       "2          64.1\n",
       "3          63.4\n",
       "4         155.8\n",
       "..          ...\n",
       "60         90.4\n",
       "61         48.5\n",
       "62         38.5\n",
       "63         76.4\n",
       "64         59.0\n",
       "\n",
       "[65 rows x 1 columns]"
      ]
     },
     "execution_count": 5,
     "metadata": {},
     "output_type": "execute_result"
    }
   ],
   "source": [
    "df_second = df[[df.columns[2]]]\n"
   ]
  }
 ],
 "metadata": {
  "kernelspec": {
   "display_name": "Python 3",
   "language": "python",
   "name": "python3"
  },
  "language_info": {
   "codemirror_mode": {
    "name": "ipython",
    "version": 3
   },
   "file_extension": ".py",
   "mimetype": "text/x-python",
   "name": "python",
   "nbconvert_exporter": "python",
   "pygments_lexer": "ipython3",
   "version": "3.11.3"
  },
  "orig_nbformat": 4
 },
 "nbformat": 4,
 "nbformat_minor": 2
}
